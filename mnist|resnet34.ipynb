{
  "nbformat": 4,
  "nbformat_minor": 0,
  "metadata": {
    "colab": {
      "provenance": [],
      "gpuType": "T4",
      "authorship_tag": "ABX9TyPm7+QcF6foHjjeYCiKVtZD",
      "include_colab_link": true
    },
    "kernelspec": {
      "name": "python3",
      "display_name": "Python 3"
    },
    "language_info": {
      "name": "python"
    },
    "accelerator": "GPU"
  },
  "cells": [
    {
      "cell_type": "markdown",
      "metadata": {
        "id": "view-in-github",
        "colab_type": "text"
      },
      "source": [
        "<a href=\"https://colab.research.google.com/github/Venky2708/MNIST-Classification-using-Resnet-34/blob/main/mnist%7Cresnet34.ipynb\" target=\"_parent\"><img src=\"https://colab.research.google.com/assets/colab-badge.svg\" alt=\"Open In Colab\"/></a>"
      ]
    },
    {
      "cell_type": "code",
      "execution_count": null,
      "metadata": {
        "id": "ZUJXuZlIstDC"
      },
      "outputs": [],
      "source": [
        "import tensorflow as tf"
      ]
    },
    {
      "cell_type": "code",
      "source": [
        "from tensorflow.keras import datasets"
      ],
      "metadata": {
        "id": "OeVpYY_GvCsv"
      },
      "execution_count": null,
      "outputs": []
    },
    {
      "cell_type": "code",
      "source": [
        "(x_train,y_train),(x_test,y_test)=datasets.mnist.load_data()"
      ],
      "metadata": {
        "colab": {
          "base_uri": "https://localhost:8080/"
        },
        "id": "5LP9uYD8uzIc",
        "outputId": "5eefb162-2ed5-430b-e159-792c43920f5b"
      },
      "execution_count": null,
      "outputs": [
        {
          "output_type": "stream",
          "name": "stdout",
          "text": [
            "Downloading data from https://storage.googleapis.com/tensorflow/tf-keras-datasets/mnist.npz\n",
            "11490434/11490434 [==============================] - 1s 0us/step\n"
          ]
        }
      ]
    },
    {
      "cell_type": "code",
      "source": [
        "x_train.shape"
      ],
      "metadata": {
        "colab": {
          "base_uri": "https://localhost:8080/"
        },
        "id": "l3AxnAurvTXn",
        "outputId": "fcc7c77a-978b-4bf7-ebda-11252c2b6470"
      },
      "execution_count": null,
      "outputs": [
        {
          "output_type": "execute_result",
          "data": {
            "text/plain": [
              "(60000, 28, 28)"
            ]
          },
          "metadata": {},
          "execution_count": 4
        }
      ]
    },
    {
      "cell_type": "code",
      "source": [
        "x_test.shape"
      ],
      "metadata": {
        "colab": {
          "base_uri": "https://localhost:8080/"
        },
        "id": "iZCXOFJIvWYl",
        "outputId": "12a5d75f-aa87-4d20-f472-2e7af6c8402b"
      },
      "execution_count": null,
      "outputs": [
        {
          "output_type": "execute_result",
          "data": {
            "text/plain": [
              "(10000, 28, 28)"
            ]
          },
          "metadata": {},
          "execution_count": 5
        }
      ]
    },
    {
      "cell_type": "code",
      "source": [
        "y_train.shape"
      ],
      "metadata": {
        "colab": {
          "base_uri": "https://localhost:8080/"
        },
        "id": "so5Fs9lsvcrn",
        "outputId": "8adc43ba-80ab-4f64-ef57-e8f4602b31d7"
      },
      "execution_count": null,
      "outputs": [
        {
          "output_type": "execute_result",
          "data": {
            "text/plain": [
              "(60000,)"
            ]
          },
          "metadata": {},
          "execution_count": 6
        }
      ]
    },
    {
      "cell_type": "code",
      "source": [
        "y_test.shape"
      ],
      "metadata": {
        "colab": {
          "base_uri": "https://localhost:8080/"
        },
        "id": "IRHy4BUHvmke",
        "outputId": "7b6ccd49-f72d-436c-b910-51722fabc3f1"
      },
      "execution_count": null,
      "outputs": [
        {
          "output_type": "execute_result",
          "data": {
            "text/plain": [
              "(10000,)"
            ]
          },
          "metadata": {},
          "execution_count": 7
        }
      ]
    },
    {
      "cell_type": "code",
      "source": [
        "x_train.dtype"
      ],
      "metadata": {
        "colab": {
          "base_uri": "https://localhost:8080/"
        },
        "id": "xTbQBk9AvqJ_",
        "outputId": "b2af95a9-cbd0-4e27-8ef2-d8fac1f215ac"
      },
      "execution_count": null,
      "outputs": [
        {
          "output_type": "execute_result",
          "data": {
            "text/plain": [
              "dtype('uint8')"
            ]
          },
          "metadata": {},
          "execution_count": 8
        }
      ]
    },
    {
      "cell_type": "code",
      "source": [
        "x_train = x_train.astype('float32')/255.0"
      ],
      "metadata": {
        "id": "EyE-X6CTv3Rx"
      },
      "execution_count": null,
      "outputs": []
    },
    {
      "cell_type": "code",
      "source": [
        "x_test = x_test.astype('float32')/255.0"
      ],
      "metadata": {
        "id": "Swf3MK6vwJW0"
      },
      "execution_count": null,
      "outputs": []
    },
    {
      "cell_type": "code",
      "source": [
        "import matplotlib.pyplot as plt\n",
        "plt.imshow(x_train[0])"
      ],
      "metadata": {
        "colab": {
          "base_uri": "https://localhost:8080/",
          "height": 447
        },
        "id": "2BF68tgLwSE9",
        "outputId": "5c7b16f6-1eb5-475c-b6e0-70c41a6bba46"
      },
      "execution_count": null,
      "outputs": [
        {
          "output_type": "execute_result",
          "data": {
            "text/plain": [
              "<matplotlib.image.AxesImage at 0x7f180b67a8c0>"
            ]
          },
          "metadata": {},
          "execution_count": 11
        },
        {
          "output_type": "display_data",
          "data": {
            "text/plain": [
              "<Figure size 640x480 with 1 Axes>"
            ],
            "image/png": "[encoded data removed]"
          },
          "metadata": {}
        }
      ]
    },
    {
      "cell_type": "code",
      "source": [
        "x_train = tf.stack([x_train, x_train, x_train], axis=-1)\n",
        "x_test = tf.stack([x_test, x_test, x_test], axis=-1)"
      ],
      "metadata": {
        "id": "d6XiE-8YxR6G"
      },
      "execution_count": null,
      "outputs": []
    },
    {
      "cell_type": "code",
      "source": [
        "x_train.shape"
      ],
      "metadata": {
        "colab": {
          "base_uri": "https://localhost:8080/"
        },
        "id": "nUBpAvSYy4ow",
        "outputId": "5db72d1d-d756-4f18-c88d-3d3d41ebe1e1"
      },
      "execution_count": null,
      "outputs": [
        {
          "output_type": "execute_result",
          "data": {
            "text/plain": [
              "TensorShape([60000, 28, 28, 3])"
            ]
          },
          "metadata": {},
          "execution_count": 13
        }
      ]
    },
    {
      "cell_type": "code",
      "source": [
        "from tensorflow.keras import utils"
      ],
      "metadata": {
        "id": "EDm4q0Hfz1r2"
      },
      "execution_count": null,
      "outputs": []
    },
    {
      "cell_type": "code",
      "source": [
        "y_train = utils.to_categorical(y_train, 10)\n",
        "y_test = utils.to_categorical(y_test, 10)"
      ],
      "metadata": {
        "id": "S7m4rAtfy9vc"
      },
      "execution_count": null,
      "outputs": []
    },
    {
      "cell_type": "code",
      "source": [
        "from tensorflow.keras import layers,models,losses,optimizers,metrics"
      ],
      "metadata": {
        "id": "BtA0AYv_z-Jv"
      },
      "execution_count": null,
      "outputs": []
    },
    {
      "cell_type": "code",
      "source": [
        "def residual_block(x, filters, kernel_size=3, stride=1, use_shortcut=True):\n",
        "    # Shortcut\n",
        "    shortcut = x\n",
        "    if use_shortcut:\n",
        "        shortcut = layers.Conv2D(filters, (1, 1), strides=stride, padding='same')(x)\n",
        "        shortcut = layers.BatchNormalization()(shortcut)\n",
        "    # Residual path\n",
        "    x = layers.Conv2D(filters, kernel_size, strides=stride, padding='same')(x)\n",
        "    x = layers.BatchNormalization()(x)\n",
        "    x = layers.Activation('relu')(x)\n",
        "\n",
        "    x = layers.Conv2D(filters, kernel_size, padding='same')(x)\n",
        "    x = layers.BatchNormalization()(x)\n",
        "\n",
        "    # Element-wise addition\n",
        "    x = layers.Add()([x, shortcut])\n",
        "    x = layers.Activation('relu')(x)\n",
        "    return x\n",
        "\n",
        "def build_resnet34(input_shape=(28, 28, 3), num_classes=10):\n",
        "    input_tensor = layers.Input(shape=input_shape)\n",
        "\n",
        "    x = layers.Conv2D(64, (7, 7), strides=(2, 2), padding='same')(input_tensor)\n",
        "    x = layers.BatchNormalization()(x)\n",
        "    x = layers.Activation('relu')(x)\n",
        "    x = layers.MaxPooling2D((3, 3), strides=(2, 2), padding='same')(x)\n",
        "    # Residual blocks\n",
        "    x = residual_block(x, 64)\n",
        "    x = residual_block(x, 64)\n",
        "    x = residual_block(x, 64)\n",
        "\n",
        "    x = residual_block(x, 128, stride=2)\n",
        "    x = residual_block(x, 128)\n",
        "    x = residual_block(x, 128)\n",
        "    x = residual_block(x, 128)\n",
        "\n",
        "    x = residual_block(x, 256, stride=2)\n",
        "    x = residual_block(x, 256)\n",
        "    x = residual_block(x, 256)\n",
        "    x = residual_block(x, 256)\n",
        "    x = residual_block(x, 256)\n",
        "    x = residual_block(x, 256)\n",
        "\n",
        "    x = residual_block(x, 512, stride=2)\n",
        "    x = residual_block(x, 512)\n",
        "    x = residual_block(x, 512)\n",
        "    # Average pooling with pool size matching spatial dimensions\n",
        "    x = layers.GlobalAveragePooling2D()(x)\n",
        "    x = layers.Flatten()(x)\n",
        "    # Fully connected layer\n",
        "    x = layers.Dropout(rate=0.5)(x)\n",
        "    x = layers.Dense(num_classes, activation='softmax')(x)\n",
        "\n",
        "    model = tf.keras.models.Model(inputs=input_tensor, outputs=x, name='resnet34')\n",
        "    return model"
      ],
      "metadata": {
        "id": "zbFtKP040dOT"
      },
      "execution_count": null,
      "outputs": []
    },
    {
      "cell_type": "code",
      "source": [
        "resnet34_model = build_resnet34()\n",
        "resnet34_model.compile(optimizer='adam',loss='categorical_crossentropy',metrics=['accuracy'],run_eagerly=True)"
      ],
      "metadata": {
        "id": "UTczoyIU1Wds"
      },
      "execution_count": null,
      "outputs": []
    },
    {
      "cell_type": "code",
      "source": [
        "resnet34_model.summary()"
      ],
      "metadata": {
        "colab": {
          "base_uri": "https://localhost:8080/"
        },
        "collapsed": true,
        "id": "_g0Y0_2n1a77",
        "outputId": "5e6a9ebc-46fc-412c-ff74-1f6ed95ce1e1"
      },
      "execution_count": null,
      "outputs": [
        {
          "output_type": "stream",
          "name": "stdout",
          "text": [
            "Model: \"resnet34\"\n",
            "__________________________________________________________________________________________________\n",
            " Layer (type)                Output Shape                 Param #   Connected to                  \n",
            "==================================================================================================\n",
            " input_1 (InputLayer)        [(None, 28, 28, 3)]          0         []                            \n",
            "                                                                                                  \n",
            " conv2d (Conv2D)             (None, 14, 14, 64)           9472      ['input_1[0][0]']             \n",
            "                                                                                                  \n",
            " batch_normalization (Batch  (None, 14, 14, 64)           256       ['conv2d[0][0]']              \n",
            " Normalization)                                                                                   \n",
            "                                                                                                  \n",
            " activation (Activation)     (None, 14, 14, 64)           0         ['batch_normalization[0][0]'] \n",
            "                                                                                                  \n",
            " max_pooling2d (MaxPooling2  (None, 7, 7, 64)             0         ['activation[0][0]']          \n",
            " D)                                                                                               \n",
            "                                                                                                  \n",
            " conv2d_2 (Conv2D)           (None, 7, 7, 64)             36928     ['max_pooling2d[0][0]']       \n",
            "                                                                                                  \n",
            " batch_normalization_2 (Bat  (None, 7, 7, 64)             256       ['conv2d_2[0][0]']            \n",
            " chNormalization)                                                                                 \n",
            "                                                                                                  \n",
            " activation_1 (Activation)   (None, 7, 7, 64)             0         ['batch_normalization_2[0][0]'\n",
            "                                                                    ]                             \n",
            "                                                                                                  \n",
            " conv2d_3 (Conv2D)           (None, 7, 7, 64)             36928     ['activation_1[0][0]']        \n",
            "                                                                                                  \n",
            " conv2d_1 (Conv2D)           (None, 7, 7, 64)             4160      ['max_pooling2d[0][0]']       \n",
            "                                                                                                  \n",
            " batch_normalization_3 (Bat  (None, 7, 7, 64)             256       ['conv2d_3[0][0]']            \n",
            " chNormalization)                                                                                 \n",
            "                                                                                                  \n",
            " batch_normalization_1 (Bat  (None, 7, 7, 64)             256       ['conv2d_1[0][0]']            \n",
            " chNormalization)                                                                                 \n",
            "                                                                                                  \n",
            " add (Add)                   (None, 7, 7, 64)             0         ['batch_normalization_3[0][0]'\n",
            "                                                                    , 'batch_normalization_1[0][0]\n",
            "                                                                    ']                            \n",
            "                                                                                                  \n",
            " activation_2 (Activation)   (None, 7, 7, 64)             0         ['add[0][0]']                 \n",
            "                                                                                                  \n",
            " conv2d_5 (Conv2D)           (None, 7, 7, 64)             36928     ['activation_2[0][0]']        \n",
            "                                                                                                  \n",
            " batch_normalization_5 (Bat  (None, 7, 7, 64)             256       ['conv2d_5[0][0]']            \n",
            " chNormalization)                                                                                 \n",
            "                                                                                                  \n",
            " activation_3 (Activation)   (None, 7, 7, 64)             0         ['batch_normalization_5[0][0]'\n",
            "                                                                    ]                             \n",
            "                                                                                                  \n",
            " conv2d_6 (Conv2D)           (None, 7, 7, 64)             36928     ['activation_3[0][0]']        \n",
            "                                                                                                  \n",
            " conv2d_4 (Conv2D)           (None, 7, 7, 64)             4160      ['activation_2[0][0]']        \n",
            "                                                                                                  \n",
            " batch_normalization_6 (Bat  (None, 7, 7, 64)             256       ['conv2d_6[0][0]']            \n",
            " chNormalization)                                                                                 \n",
            "                                                                                                  \n",
            " batch_normalization_4 (Bat  (None, 7, 7, 64)             256       ['conv2d_4[0][0]']            \n",
            " chNormalization)                                                                                 \n",
            "                                                                                                  \n",
            " add_1 (Add)                 (None, 7, 7, 64)             0         ['batch_normalization_6[0][0]'\n",
            "                                                                    , 'batch_normalization_4[0][0]\n",
            "                                                                    ']                            \n",
            "                                                                                                  \n",
            " activation_4 (Activation)   (None, 7, 7, 64)             0         ['add_1[0][0]']               \n",
            "                                                                                                  \n",
            " conv2d_8 (Conv2D)           (None, 7, 7, 64)             36928     ['activation_4[0][0]']        \n",
            "                                                                                                  \n",
            " batch_normalization_8 (Bat  (None, 7, 7, 64)             256       ['conv2d_8[0][0]']            \n",
            " chNormalization)                                                                                 \n",
            "                                                                                                  \n",
            " activation_5 (Activation)   (None, 7, 7, 64)             0         ['batch_normalization_8[0][0]'\n",
            "                                                                    ]                             \n",
            "                                                                                                  \n",
            " conv2d_9 (Conv2D)           (None, 7, 7, 64)             36928     ['activation_5[0][0]']        \n",
            "                                                                                                  \n",
            " conv2d_7 (Conv2D)           (None, 7, 7, 64)             4160      ['activation_4[0][0]']        \n",
            "                                                                                                  \n",
            " batch_normalization_9 (Bat  (None, 7, 7, 64)             256       ['conv2d_9[0][0]']            \n",
            " chNormalization)                                                                                 \n",
            "                                                                                                  \n",
            " batch_normalization_7 (Bat  (None, 7, 7, 64)             256       ['conv2d_7[0][0]']            \n",
            " chNormalization)                                                                                 \n",
            "                                                                                                  \n",
            " add_2 (Add)                 (None, 7, 7, 64)             0         ['batch_normalization_9[0][0]'\n",
            "                                                                    , 'batch_normalization_7[0][0]\n",
            "                                                                    ']                            \n",
            "                                                                                                  \n",
            " activation_6 (Activation)   (None, 7, 7, 64)             0         ['add_2[0][0]']               \n",
            "                                                                                                  \n",
            " conv2d_11 (Conv2D)          (None, 4, 4, 128)            73856     ['activation_6[0][0]']        \n",
            "                                                                                                  \n",
            " batch_normalization_11 (Ba  (None, 4, 4, 128)            512       ['conv2d_11[0][0]']           \n",
            " tchNormalization)                                                                                \n",
            "                                                                                                  \n",
            " activation_7 (Activation)   (None, 4, 4, 128)            0         ['batch_normalization_11[0][0]\n",
            "                                                                    ']                            \n",
            "                                                                                                  \n",
            " conv2d_12 (Conv2D)          (None, 4, 4, 128)            147584    ['activation_7[0][0]']        \n",
            "                                                                                                  \n",
            " conv2d_10 (Conv2D)          (None, 4, 4, 128)            8320      ['activation_6[0][0]']        \n",
            "                                                                                                  \n",
            " batch_normalization_12 (Ba  (None, 4, 4, 128)            512       ['conv2d_12[0][0]']           \n",
            " tchNormalization)                                                                                \n",
            "                                                                                                  \n",
            " batch_normalization_10 (Ba  (None, 4, 4, 128)            512       ['conv2d_10[0][0]']           \n",
            " tchNormalization)                                                                                \n",
            "                                                                                                  \n",
            " add_3 (Add)                 (None, 4, 4, 128)            0         ['batch_normalization_12[0][0]\n",
            "                                                                    ',                            \n",
            "                                                                     'batch_normalization_10[0][0]\n",
            "                                                                    ']                            \n",
            "                                                                                                  \n",
            " activation_8 (Activation)   (None, 4, 4, 128)            0         ['add_3[0][0]']               \n",
            "                                                                                                  \n",
            " conv2d_14 (Conv2D)          (None, 4, 4, 128)            147584    ['activation_8[0][0]']        \n",
            "                                                                                                  \n",
            " batch_normalization_14 (Ba  (None, 4, 4, 128)            512       ['conv2d_14[0][0]']           \n",
            " tchNormalization)                                                                                \n",
            "                                                                                                  \n",
            " activation_9 (Activation)   (None, 4, 4, 128)            0         ['batch_normalization_14[0][0]\n",
            "                                                                    ']                            \n",
            "                                                                                                  \n",
            " conv2d_15 (Conv2D)          (None, 4, 4, 128)            147584    ['activation_9[0][0]']        \n",
            "                                                                                                  \n",
            " conv2d_13 (Conv2D)          (None, 4, 4, 128)            16512     ['activation_8[0][0]']        \n",
            "                                                                                                  \n",
            " batch_normalization_15 (Ba  (None, 4, 4, 128)            512       ['conv2d_15[0][0]']           \n",
            " tchNormalization)                                                                                \n",
            "                                                                                                  \n",
            " batch_normalization_13 (Ba  (None, 4, 4, 128)            512       ['conv2d_13[0][0]']           \n",
            " tchNormalization)                                                                                \n",
            "                                                                                                  \n",
            " add_4 (Add)                 (None, 4, 4, 128)            0         ['batch_normalization_15[0][0]\n",
            "                                                                    ',                            \n",
            "                                                                     'batch_normalization_13[0][0]\n",
            "                                                                    ']                            \n",
            "                                                                                                  \n",
            " activation_10 (Activation)  (None, 4, 4, 128)            0         ['add_4[0][0]']               \n",
            "                                                                                                  \n",
            " conv2d_17 (Conv2D)          (None, 4, 4, 128)            147584    ['activation_10[0][0]']       \n",
            "                                                                                                  \n",
            " batch_normalization_17 (Ba  (None, 4, 4, 128)            512       ['conv2d_17[0][0]']           \n",
            " tchNormalization)                                                                                \n",
            "                                                                                                  \n",
            " activation_11 (Activation)  (None, 4, 4, 128)            0         ['batch_normalization_17[0][0]\n",
            "                                                                    ']                            \n",
            "                                                                                                  \n",
            " conv2d_18 (Conv2D)          (None, 4, 4, 128)            147584    ['activation_11[0][0]']       \n",
            "                                                                                                  \n",
            " conv2d_16 (Conv2D)          (None, 4, 4, 128)            16512     ['activation_10[0][0]']       \n",
            "                                                                                                  \n",
            " batch_normalization_18 (Ba  (None, 4, 4, 128)            512       ['conv2d_18[0][0]']           \n",
            " tchNormalization)                                                                                \n",
            "                                                                                                  \n",
            " batch_normalization_16 (Ba  (None, 4, 4, 128)            512       ['conv2d_16[0][0]']           \n",
            " tchNormalization)                                                                                \n",
            "                                                                                                  \n",
            " add_5 (Add)                 (None, 4, 4, 128)            0         ['batch_normalization_18[0][0]\n",
            "                                                                    ',                            \n",
            "                                                                     'batch_normalization_16[0][0]\n",
            "                                                                    ']                            \n",
            "                                                                                                  \n",
            " activation_12 (Activation)  (None, 4, 4, 128)            0         ['add_5[0][0]']               \n",
            "                                                                                                  \n",
            " conv2d_20 (Conv2D)          (None, 4, 4, 128)            147584    ['activation_12[0][0]']       \n",
            "                                                                                                  \n",
            " batch_normalization_20 (Ba  (None, 4, 4, 128)            512       ['conv2d_20[0][0]']           \n",
            " tchNormalization)                                                                                \n",
            "                                                                                                  \n",
            " activation_13 (Activation)  (None, 4, 4, 128)            0         ['batch_normalization_20[0][0]\n",
            "                                                                    ']                            \n",
            "                                                                                                  \n",
            " conv2d_21 (Conv2D)          (None, 4, 4, 128)            147584    ['activation_13[0][0]']       \n",
            "                                                                                                  \n",
            " conv2d_19 (Conv2D)          (None, 4, 4, 128)            16512     ['activation_12[0][0]']       \n",
            "                                                                                                  \n",
            " batch_normalization_21 (Ba  (None, 4, 4, 128)            512       ['conv2d_21[0][0]']           \n",
            " tchNormalization)                                                                                \n",
            "                                                                                                  \n",
            " batch_normalization_19 (Ba  (None, 4, 4, 128)            512       ['conv2d_19[0][0]']           \n",
            " tchNormalization)                                                                                \n",
            "                                                                                                  \n",
            " add_6 (Add)                 (None, 4, 4, 128)            0         ['batch_normalization_21[0][0]\n",
            "                                                                    ',                            \n",
            "                                                                     'batch_normalization_19[0][0]\n",
            "                                                                    ']                            \n",
            "                                                                                                  \n",
            " activation_14 (Activation)  (None, 4, 4, 128)            0         ['add_6[0][0]']               \n",
            "                                                                                                  \n",
            " conv2d_23 (Conv2D)          (None, 2, 2, 256)            295168    ['activation_14[0][0]']       \n",
            "                                                                                                  \n",
            " batch_normalization_23 (Ba  (None, 2, 2, 256)            1024      ['conv2d_23[0][0]']           \n",
            " tchNormalization)                                                                                \n",
            "                                                                                                  \n",
            " activation_15 (Activation)  (None, 2, 2, 256)            0         ['batch_normalization_23[0][0]\n",
            "                                                                    ']                            \n",
            "                                                                                                  \n",
            " conv2d_24 (Conv2D)          (None, 2, 2, 256)            590080    ['activation_15[0][0]']       \n",
            "                                                                                                  \n",
            " conv2d_22 (Conv2D)          (None, 2, 2, 256)            33024     ['activation_14[0][0]']       \n",
            "                                                                                                  \n",
            " batch_normalization_24 (Ba  (None, 2, 2, 256)            1024      ['conv2d_24[0][0]']           \n",
            " tchNormalization)                                                                                \n",
            "                                                                                                  \n",
            " batch_normalization_22 (Ba  (None, 2, 2, 256)            1024      ['conv2d_22[0][0]']           \n",
            " tchNormalization)                                                                                \n",
            "                                                                                                  \n",
            " add_7 (Add)                 (None, 2, 2, 256)            0         ['batch_normalization_24[0][0]\n",
            "                                                                    ',                            \n",
            "                                                                     'batch_normalization_22[0][0]\n",
            "                                                                    ']                            \n",
            "                                                                                                  \n",
            " activation_16 (Activation)  (None, 2, 2, 256)            0         ['add_7[0][0]']               \n",
            "                                                                                                  \n",
            " conv2d_26 (Conv2D)          (None, 2, 2, 256)            590080    ['activation_16[0][0]']       \n",
            "                                                                                                  \n",
            " batch_normalization_26 (Ba  (None, 2, 2, 256)            1024      ['conv2d_26[0][0]']           \n",
            " tchNormalization)                                                                                \n",
            "                                                                                                  \n",
            " activation_17 (Activation)  (None, 2, 2, 256)            0         ['batch_normalization_26[0][0]\n",
            "                                                                    ']                            \n",
            "                                                                                                  \n",
            " conv2d_27 (Conv2D)          (None, 2, 2, 256)            590080    ['activation_17[0][0]']       \n",
            "                                                                                                  \n",
            " conv2d_25 (Conv2D)          (None, 2, 2, 256)            65792     ['activation_16[0][0]']       \n",
            "                                                                                                  \n",
            " batch_normalization_27 (Ba  (None, 2, 2, 256)            1024      ['conv2d_27[0][0]']           \n",
            " tchNormalization)                                                                                \n",
            "                                                                                                  \n",
            " batch_normalization_25 (Ba  (None, 2, 2, 256)            1024      ['conv2d_25[0][0]']           \n",
            " tchNormalization)                                                                                \n",
            "                                                                                                  \n",
            " add_8 (Add)                 (None, 2, 2, 256)            0         ['batch_normalization_27[0][0]\n",
            "                                                                    ',                            \n",
            "                                                                     'batch_normalization_25[0][0]\n",
            "                                                                    ']                            \n",
            "                                                                                                  \n",
            " activation_18 (Activation)  (None, 2, 2, 256)            0         ['add_8[0][0]']               \n",
            "                                                                                                  \n",
            " conv2d_29 (Conv2D)          (None, 2, 2, 256)            590080    ['activation_18[0][0]']       \n",
            "                                                                                                  \n",
            " batch_normalization_29 (Ba  (None, 2, 2, 256)            1024      ['conv2d_29[0][0]']           \n",
            " tchNormalization)                                                                                \n",
            "                                                                                                  \n",
            " activation_19 (Activation)  (None, 2, 2, 256)            0         ['batch_normalization_29[0][0]\n",
            "                                                                    ']                            \n",
            "                                                                                                  \n",
            " conv2d_30 (Conv2D)          (None, 2, 2, 256)            590080    ['activation_19[0][0]']       \n",
            "                                                                                                  \n",
            " conv2d_28 (Conv2D)          (None, 2, 2, 256)            65792     ['activation_18[0][0]']       \n",
            "                                                                                                  \n",
            " batch_normalization_30 (Ba  (None, 2, 2, 256)            1024      ['conv2d_30[0][0]']           \n",
            " tchNormalization)                                                                                \n",
            "                                                                                                  \n",
            " batch_normalization_28 (Ba  (None, 2, 2, 256)            1024      ['conv2d_28[0][0]']           \n",
            " tchNormalization)                                                                                \n",
            "                                                                                                  \n",
            " add_9 (Add)                 (None, 2, 2, 256)            0         ['batch_normalization_30[0][0]\n",
            "                                                                    ',                            \n",
            "                                                                     'batch_normalization_28[0][0]\n",
            "                                                                    ']                            \n",
            "                                                                                                  \n",
            " activation_20 (Activation)  (None, 2, 2, 256)            0         ['add_9[0][0]']               \n",
            "                                                                                                  \n",
            " conv2d_32 (Conv2D)          (None, 2, 2, 256)            590080    ['activation_20[0][0]']       \n",
            "                                                                                                  \n",
            " batch_normalization_32 (Ba  (None, 2, 2, 256)            1024      ['conv2d_32[0][0]']           \n",
            " tchNormalization)                                                                                \n",
            "                                                                                                  \n",
            " activation_21 (Activation)  (None, 2, 2, 256)            0         ['batch_normalization_32[0][0]\n",
            "                                                                    ']                            \n",
            "                                                                                                  \n",
            " conv2d_33 (Conv2D)          (None, 2, 2, 256)            590080    ['activation_21[0][0]']       \n",
            "                                                                                                  \n",
            " conv2d_31 (Conv2D)          (None, 2, 2, 256)            65792     ['activation_20[0][0]']       \n",
            "                                                                                                  \n",
            " batch_normalization_33 (Ba  (None, 2, 2, 256)            1024      ['conv2d_33[0][0]']           \n",
            " tchNormalization)                                                                                \n",
            "                                                                                                  \n",
            " batch_normalization_31 (Ba  (None, 2, 2, 256)            1024      ['conv2d_31[0][0]']           \n",
            " tchNormalization)                                                                                \n",
            "                                                                                                  \n",
            " add_10 (Add)                (None, 2, 2, 256)            0         ['batch_normalization_33[0][0]\n",
            "                                                                    ',                            \n",
            "                                                                     'batch_normalization_31[0][0]\n",
            "                                                                    ']                            \n",
            "                                                                                                  \n",
            " activation_22 (Activation)  (None, 2, 2, 256)            0         ['add_10[0][0]']              \n",
            "                                                                                                  \n",
            " conv2d_35 (Conv2D)          (None, 2, 2, 256)            590080    ['activation_22[0][0]']       \n",
            "                                                                                                  \n",
            " batch_normalization_35 (Ba  (None, 2, 2, 256)            1024      ['conv2d_35[0][0]']           \n",
            " tchNormalization)                                                                                \n",
            "                                                                                                  \n",
            " activation_23 (Activation)  (None, 2, 2, 256)            0         ['batch_normalization_35[0][0]\n",
            "                                                                    ']                            \n",
            "                                                                                                  \n",
            " conv2d_36 (Conv2D)          (None, 2, 2, 256)            590080    ['activation_23[0][0]']       \n",
            "                                                                                                  \n",
            " conv2d_34 (Conv2D)          (None, 2, 2, 256)            65792     ['activation_22[0][0]']       \n",
            "                                                                                                  \n",
            " batch_normalization_36 (Ba  (None, 2, 2, 256)            1024      ['conv2d_36[0][0]']           \n",
            " tchNormalization)                                                                                \n",
            "                                                                                                  \n",
            " batch_normalization_34 (Ba  (None, 2, 2, 256)            1024      ['conv2d_34[0][0]']           \n",
            " tchNormalization)                                                                                \n",
            "                                                                                                  \n",
            " add_11 (Add)                (None, 2, 2, 256)            0         ['batch_normalization_36[0][0]\n",
            "                                                                    ',                            \n",
            "                                                                     'batch_normalization_34[0][0]\n",
            "                                                                    ']                            \n",
            "                                                                                                  \n",
            " activation_24 (Activation)  (None, 2, 2, 256)            0         ['add_11[0][0]']              \n",
            "                                                                                                  \n",
            " conv2d_38 (Conv2D)          (None, 2, 2, 256)            590080    ['activation_24[0][0]']       \n",
            "                                                                                                  \n",
            " batch_normalization_38 (Ba  (None, 2, 2, 256)            1024      ['conv2d_38[0][0]']           \n",
            " tchNormalization)                                                                                \n",
            "                                                                                                  \n",
            " activation_25 (Activation)  (None, 2, 2, 256)            0         ['batch_normalization_38[0][0]\n",
            "                                                                    ']                            \n",
            "                                                                                                  \n",
            " conv2d_39 (Conv2D)          (None, 2, 2, 256)            590080    ['activation_25[0][0]']       \n",
            "                                                                                                  \n",
            " conv2d_37 (Conv2D)          (None, 2, 2, 256)            65792     ['activation_24[0][0]']       \n",
            "                                                                                                  \n",
            " batch_normalization_39 (Ba  (None, 2, 2, 256)            1024      ['conv2d_39[0][0]']           \n",
            " tchNormalization)                                                                                \n",
            "                                                                                                  \n",
            " batch_normalization_37 (Ba  (None, 2, 2, 256)            1024      ['conv2d_37[0][0]']           \n",
            " tchNormalization)                                                                                \n",
            "                                                                                                  \n",
            " add_12 (Add)                (None, 2, 2, 256)            0         ['batch_normalization_39[0][0]\n",
            "                                                                    ',                            \n",
            "                                                                     'batch_normalization_37[0][0]\n",
            "                                                                    ']                            \n",
            "                                                                                                  \n",
            " activation_26 (Activation)  (None, 2, 2, 256)            0         ['add_12[0][0]']              \n",
            "                                                                                                  \n",
            " conv2d_41 (Conv2D)          (None, 1, 1, 512)            1180160   ['activation_26[0][0]']       \n",
            "                                                                                                  \n",
            " batch_normalization_41 (Ba  (None, 1, 1, 512)            2048      ['conv2d_41[0][0]']           \n",
            " tchNormalization)                                                                                \n",
            "                                                                                                  \n",
            " activation_27 (Activation)  (None, 1, 1, 512)            0         ['batch_normalization_41[0][0]\n",
            "                                                                    ']                            \n",
            "                                                                                                  \n",
            " conv2d_42 (Conv2D)          (None, 1, 1, 512)            2359808   ['activation_27[0][0]']       \n",
            "                                                                                                  \n",
            " conv2d_40 (Conv2D)          (None, 1, 1, 512)            131584    ['activation_26[0][0]']       \n",
            "                                                                                                  \n",
            " batch_normalization_42 (Ba  (None, 1, 1, 512)            2048      ['conv2d_42[0][0]']           \n",
            " tchNormalization)                                                                                \n",
            "                                                                                                  \n",
            " batch_normalization_40 (Ba  (None, 1, 1, 512)            2048      ['conv2d_40[0][0]']           \n",
            " tchNormalization)                                                                                \n",
            "                                                                                                  \n",
            " add_13 (Add)                (None, 1, 1, 512)            0         ['batch_normalization_42[0][0]\n",
            "                                                                    ',                            \n",
            "                                                                     'batch_normalization_40[0][0]\n",
            "                                                                    ']                            \n",
            "                                                                                                  \n",
            " activation_28 (Activation)  (None, 1, 1, 512)            0         ['add_13[0][0]']              \n",
            "                                                                                                  \n",
            " conv2d_44 (Conv2D)          (None, 1, 1, 512)            2359808   ['activation_28[0][0]']       \n",
            "                                                                                                  \n",
            " batch_normalization_44 (Ba  (None, 1, 1, 512)            2048      ['conv2d_44[0][0]']           \n",
            " tchNormalization)                                                                                \n",
            "                                                                                                  \n",
            " activation_29 (Activation)  (None, 1, 1, 512)            0         ['batch_normalization_44[0][0]\n",
            "                                                                    ']                            \n",
            "                                                                                                  \n",
            " conv2d_45 (Conv2D)          (None, 1, 1, 512)            2359808   ['activation_29[0][0]']       \n",
            "                                                                                                  \n",
            " conv2d_43 (Conv2D)          (None, 1, 1, 512)            262656    ['activation_28[0][0]']       \n",
            "                                                                                                  \n",
            " batch_normalization_45 (Ba  (None, 1, 1, 512)            2048      ['conv2d_45[0][0]']           \n",
            " tchNormalization)                                                                                \n",
            "                                                                                                  \n",
            " batch_normalization_43 (Ba  (None, 1, 1, 512)            2048      ['conv2d_43[0][0]']           \n",
            " tchNormalization)                                                                                \n",
            "                                                                                                  \n",
            " add_14 (Add)                (None, 1, 1, 512)            0         ['batch_normalization_45[0][0]\n",
            "                                                                    ',                            \n",
            "                                                                     'batch_normalization_43[0][0]\n",
            "                                                                    ']                            \n",
            "                                                                                                  \n",
            " activation_30 (Activation)  (None, 1, 1, 512)            0         ['add_14[0][0]']              \n",
            "                                                                                                  \n",
            " conv2d_47 (Conv2D)          (None, 1, 1, 512)            2359808   ['activation_30[0][0]']       \n",
            "                                                                                                  \n",
            " batch_normalization_47 (Ba  (None, 1, 1, 512)            2048      ['conv2d_47[0][0]']           \n",
            " tchNormalization)                                                                                \n",
            "                                                                                                  \n",
            " activation_31 (Activation)  (None, 1, 1, 512)            0         ['batch_normalization_47[0][0]\n",
            "                                                                    ']                            \n",
            "                                                                                                  \n",
            " conv2d_48 (Conv2D)          (None, 1, 1, 512)            2359808   ['activation_31[0][0]']       \n",
            "                                                                                                  \n",
            " conv2d_46 (Conv2D)          (None, 1, 1, 512)            262656    ['activation_30[0][0]']       \n",
            "                                                                                                  \n",
            " batch_normalization_48 (Ba  (None, 1, 1, 512)            2048      ['conv2d_48[0][0]']           \n",
            " tchNormalization)                                                                                \n",
            "                                                                                                  \n",
            " batch_normalization_46 (Ba  (None, 1, 1, 512)            2048      ['conv2d_46[0][0]']           \n",
            " tchNormalization)                                                                                \n",
            "                                                                                                  \n",
            " add_15 (Add)                (None, 1, 1, 512)            0         ['batch_normalization_48[0][0]\n",
            "                                                                    ',                            \n",
            "                                                                     'batch_normalization_46[0][0]\n",
            "                                                                    ']                            \n",
            "                                                                                                  \n",
            " activation_32 (Activation)  (None, 1, 1, 512)            0         ['add_15[0][0]']              \n",
            "                                                                                                  \n",
            " global_average_pooling2d (  (None, 512)                  0         ['activation_32[0][0]']       \n",
            " GlobalAveragePooling2D)                                                                          \n",
            "                                                                                                  \n",
            " flatten (Flatten)           (None, 512)                  0         ['global_average_pooling2d[0][\n",
            "                                                                    0]']                          \n",
            "                                                                                                  \n",
            " dropout (Dropout)           (None, 512)                  0         ['flatten[0][0]']             \n",
            "                                                                                                  \n",
            " dense (Dense)               (None, 10)                   5130      ['dropout[0][0]']             \n",
            "                                                                                                  \n",
            "==================================================================================================\n",
            "Total params: 22243146 (84.85 MB)\n",
            "Trainable params: 22220362 (84.76 MB)\n",
            "Non-trainable params: 22784 (89.00 KB)\n",
            "__________________________________________________________________________________________________\n"
          ]
        }
      ]
    },
    {
      "cell_type": "code",
      "source": [
        "history = resnet34_model.fit(x_train,y_train, epochs=5,validation_data=(x_test,y_test))"
      ],
      "metadata": {
        "colab": {
          "base_uri": "https://localhost:8080/"
        },
        "id": "d0CEhVj31gv1",
        "outputId": "a62d8dd5-cc28-4455-e68d-76080a56e783"
      },
      "execution_count": null,
      "outputs": [
        {
          "output_type": "stream",
          "name": "stdout",
          "text": [
            "1875/1875 [==============================] - 726s 374ms/step - loss: 0.3117 - accuracy: 0.9170 - val_loss: 0.1649 - val_accuracy: 0.9574\n",
            "Epoch 2/5\n",
            "1875/1875 [==============================] - 699s 373ms/step - loss: 0.1252 - accuracy: 0.9701 - val_loss: 0.1181 - val_accuracy: 0.9767\n",
            "Epoch 3/5\n",
            "1875/1875 [==============================] - 702s 374ms/step - loss: 0.1159 - accuracy: 0.9740 - val_loss: 0.1735 - val_accuracy: 0.9595\n",
            "Epoch 4/5\n",
            "1875/1875 [==============================] - 706s 377ms/step - loss: 0.1007 - accuracy: 0.9777 - val_loss: 0.2424 - val_accuracy: 0.9479\n",
            "Epoch 5/5\n",
            "1875/1875 [==============================] - 698s 372ms/step - loss: 0.0831 - accuracy: 0.9816 - val_loss: 0.0857 - val_accuracy: 0.9749\n"
          ]
        }
      ]
    },
    {
      "cell_type": "code",
      "source": [
        "test_loss, test_accuracy = resnet34_model.evaluate(x_test, y_test)\n",
        "print(f\"Test Accuracy: {test_accuracy * 100:.2f}%\")\n",
        "print(f\"Test Loss: {test_loss:.4f}\")"
      ],
      "metadata": {
        "colab": {
          "base_uri": "https://localhost:8080/"
        },
        "id": "jW6rYanGLJ6T",
        "outputId": "63deb27c-76ba-4b8f-a8b7-5b7075ed44a6"
      },
      "execution_count": null,
      "outputs": [
        {
          "output_type": "stream",
          "name": "stdout",
          "text": [
            "313/313 [==============================] - 42s 134ms/step - loss: 0.0857 - accuracy: 0.9749\n",
            "Test Accuracy: 97.49%\n",
            "Test Loss: 0.0857\n"
          ]
        }
      ]
    },
    {
      "cell_type": "code",
      "source": [],
      "metadata": {
        "id": "fViwkxe2MDak"
      },
      "execution_count": null,
      "outputs": []
    }
  ]
}